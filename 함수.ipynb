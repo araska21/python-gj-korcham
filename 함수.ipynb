{
 "cells": [
  {
   "cell_type": "markdown",
   "metadata": {},
   "source": [
    "### 함수 이용해서 두 수 중 큰 수 찾기"
   ]
  },
  {
   "cell_type": "code",
   "execution_count": 1,
   "metadata": {},
   "outputs": [
    {
     "name": "stdout",
     "output_type": "stream",
     "text": [
      "7\n"
     ]
    }
   ],
   "source": [
    "def func(a,b):\n",
    "     if a>b:\n",
    "         return a\n",
    "     else:\n",
    "         return b\n",
    "a = int(input(\"정수: \"))\n",
    "b = int(input(\"정수: \"))\n",
    "r = func(a, b)\n",
    "print(r)"
   ]
  },
  {
   "cell_type": "code",
   "execution_count": 2,
   "metadata": {},
   "outputs": [
    {
     "name": "stdout",
     "output_type": "stream",
     "text": [
      "3\n"
     ]
    }
   ],
   "source": [
    "def func(a, b):\n",
    "    if a<b:\n",
    "        return a\n",
    "    else: \n",
    "        return b\n",
    "a = int(input(\"정수: \"))\n",
    "b = int(input(\"정수: \"))\n",
    "r = func(a, b)\n",
    "print(r)"
   ]
  },
  {
   "cell_type": "markdown",
   "metadata": {},
   "source": [
    "### 함수 이용해서 큰 수 찾기"
   ]
  },
  {
   "cell_type": "code",
   "execution_count": 4,
   "metadata": {},
   "outputs": [
    {
     "name": "stdout",
     "output_type": "stream",
     "text": [
      "9\n"
     ]
    }
   ],
   "source": [
    "def func(a, b, c):\n",
    "    if a>b:\n",
    "        if a>c:\n",
    "            return a\n",
    "        else: \n",
    "            return c\n",
    "    else: \n",
    "        if b>c:\n",
    "            return b\n",
    "        else:\n",
    "            return c\n",
    "a = int(input(\"정수: \"))\n",
    "b = int(input(\"정수: \"))\n",
    "c = int(input(\"정수: \"))\n",
    "r = func(a, b, c)\n",
    "print(r)"
   ]
  },
  {
   "cell_type": "markdown",
   "metadata": {},
   "source": [
    "### 함수 이용해서 1부터 10까지의 약수 구하기"
   ]
  },
  {
   "cell_type": "code",
   "execution_count": 7,
   "metadata": {},
   "outputs": [
    {
     "name": "stdout",
     "output_type": "stream",
     "text": [
      "1 : 1 \n",
      "2 : 1 2 \n",
      "3 : 1 3 \n",
      "4 : 1 2 4 \n",
      "5 : 1 5 \n",
      "6 : 1 2 3 6 \n",
      "7 : 1 7 \n",
      "8 : 1 2 4 8 \n",
      "9 : 1 3 9 \n",
      "10 : 1 2 5 10 \n"
     ]
    }
   ],
   "source": [
    "def func(a):\n",
    "    for i in range(1, a+1):\n",
    "        if a%i==0:\n",
    "            print(i, end=\" \")\n",
    "for i in range (1, 11):\n",
    "    print(i, ':', end=\" \")\n",
    "    func(i)\n",
    "    print()"
   ]
  },
  {
   "cell_type": "markdown",
   "metadata": {},
   "source": [
    "### 소수 판별하는 함수"
   ]
  },
  {
   "cell_type": "code",
   "execution_count": 10,
   "metadata": {},
   "outputs": [
    {
     "name": "stdout",
     "output_type": "stream",
     "text": [
      "2 : \n",
      "3 : \n",
      "4 : 2 \n",
      "5 : \n",
      "6 : 2 3 \n",
      "7 : \n",
      "8 : 2 4 \n",
      "9 : 3 \n",
      "10 : 2 5 \n"
     ]
    }
   ],
   "source": [
    "def func(a):\n",
    "    for i in range(2, a):\n",
    "        if a%i==0:\n",
    "            print(i, end=\" \")\n",
    "for i in range(2, 11):\n",
    "    print(i, \":\", end=\" \")\n",
    "    func(i)\n",
    "    print()"
   ]
  },
  {
   "cell_type": "code",
   "execution_count": 16,
   "metadata": {},
   "outputs": [
    {
     "name": "stdout",
     "output_type": "stream",
     "text": [
      "2 : 소수\n",
      "3 : 소수\n",
      "4 : 소수아님\n",
      "5 : 소수\n",
      "6 : 소수아님\n",
      "7 : 소수\n",
      "8 : 소수아님\n",
      "9 : 소수아님\n",
      "10 : 소수아님\n"
     ]
    }
   ],
   "source": [
    "def func(a):\n",
    "    chk = 1\n",
    "    for i in range(2, a):\n",
    "        if a%i==0:\n",
    "            chk=0\n",
    "            break\n",
    "    if chk==1:\n",
    "        print(a, \": 소수\")\n",
    "    else:\n",
    "        print(a, \": 소수아님\")\n",
    "for i in range(2, 11):\n",
    "    func(i)"
   ]
  },
  {
   "cell_type": "markdown",
   "metadata": {},
   "source": [
    "### 재귀함수 이용해서 1부터 입력 받은 수까지의 합 구하기"
   ]
  },
  {
   "cell_type": "code",
   "execution_count": 11,
   "metadata": {},
   "outputs": [
    {
     "name": "stdout",
     "output_type": "stream",
     "text": [
      "55\n"
     ]
    }
   ],
   "source": [
    "def s(a):\n",
    "    if a<=1:\n",
    "        return 1\n",
    "    return a+s(a-1)\n",
    "n = int(input(\"정수: \"))\n",
    "result = s(n)\n",
    "print(result)"
   ]
  },
  {
   "cell_type": "markdown",
   "metadata": {},
   "source": [
    "### 재귀함수 이용해서 입력받은 수에 대한 계승 구하기"
   ]
  },
  {
   "cell_type": "code",
   "execution_count": 13,
   "metadata": {},
   "outputs": [
    {
     "name": "stdout",
     "output_type": "stream",
     "text": [
      "3628800\n"
     ]
    }
   ],
   "source": [
    "def f(n):\n",
    "    if n > 1:\n",
    "        return n * f(n-1)\n",
    "    else:\n",
    "        return 1\n",
    "n = int(input(\"정수: \"))\n",
    "result = f(n)\n",
    "print(result)"
   ]
  },
  {
   "cell_type": "markdown",
   "metadata": {},
   "source": [
    "### 재귀함수 이용해서 피보나치수열 구하기"
   ]
  },
  {
   "cell_type": "code",
   "execution_count": 15,
   "metadata": {},
   "outputs": [
    {
     "name": "stdout",
     "output_type": "stream",
     "text": [
      "13\n"
     ]
    }
   ],
   "source": [
    "def fibo(a):\n",
    "    if a<=2:\n",
    "        return 1\n",
    "    return fibo(a-1)+fibo(a-2)\n",
    "n = int(input(\"정수: \"))\n",
    "result = fibo(n)\n",
    "print(result)"
   ]
  }
 ],
 "metadata": {
  "kernelspec": {
   "display_name": "Python 3",
   "language": "python",
   "name": "python3"
  },
  "language_info": {
   "codemirror_mode": {
    "name": "ipython",
    "version": 3
   },
   "file_extension": ".py",
   "mimetype": "text/x-python",
   "name": "python",
   "nbconvert_exporter": "python",
   "pygments_lexer": "ipython3",
   "version": "3.13.2"
  }
 },
 "nbformat": 4,
 "nbformat_minor": 2
}
