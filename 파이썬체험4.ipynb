{
 "cells": [
  {
   "cell_type": "code",
   "execution_count": 12,
   "metadata": {},
   "outputs": [
    {
     "name": "stdout",
     "output_type": "stream",
     "text": [
      "큰 수: 5\n"
     ]
    }
   ],
   "source": [
    "a = int(input(\"정수: \"))\n",
    "b = int(input(\"정수: \"))\n",
    "if a>b:  \n",
    "    print(\"큰 수:\", a)\n",
    "else:  \n",
    "    print(\"큰 수:\", b)"
   ]
  },
  {
   "cell_type": "code",
   "execution_count": 14,
   "metadata": {},
   "outputs": [
    {
     "name": "stdout",
     "output_type": "stream",
     "text": [
      "-5 : 음수\n"
     ]
    }
   ],
   "source": [
    "a = int(input(\"정수: \"))\n",
    "if a<0:    \n",
    " print(a, \": 음수\")\n",
    "elif a>0:     \n",
    " print(a, \": 양수\")\n",
    "else:     \n",
    " print(a, \": 0\")"
   ]
  },
  {
   "cell_type": "code",
   "execution_count": 15,
   "metadata": {},
   "outputs": [
    {
     "name": "stdout",
     "output_type": "stream",
     "text": [
      "가장 큰 수 : 9\n"
     ]
    }
   ],
   "source": [
    "a = int(input(\"정수: \"))\n",
    "b = int(input(\"정수: \"))\n",
    "c = int(input(\"정수: \"))\n",
    "if a>b:     \n",
    " if a>c:        \n",
    "  print(\"가장 큰 수 :\", a)            \n",
    " else:\n",
    "  print(\"가장 큰 수 :\", c)\n",
    "else: \n",
    " if b>c:\n",
    "  print(\"가장 큰 수 :\", b)\n",
    " else:\n",
    "  print(\"가장 큰 수 :\", c)"
   ]
  },
  {
   "cell_type": "code",
   "execution_count": 16,
   "metadata": {},
   "outputs": [
    {
     "name": "stdout",
     "output_type": "stream",
     "text": [
      "가장 큰 수: 7\n"
     ]
    }
   ],
   "source": [
    "m = int(input(\"정수: \"))\n",
    "a = int(input(\"정수: \"))\n",
    "if a>m:     \n",
    "    m = a\n",
    "a = int(input(\"정수: \"))\n",
    "if a>m:    \n",
    "  m = a\n",
    "print(\"가장 큰 수:\", m)"
   ]
  },
  {
   "cell_type": "code",
   "execution_count": 5,
   "metadata": {},
   "outputs": [
    {
     "name": "stdout",
     "output_type": "stream",
     "text": [
      "1 : 홀수\n"
     ]
    }
   ],
   "source": [
    "a = int(input(\"정수: \"))\n",
    "if a%2 == 0:    \n",
    " print(a, \": 짝수\")\n",
    "else:     \n",
    " print(a, \": 홀수\")"
   ]
  },
  {
   "cell_type": "code",
   "execution_count": 6,
   "metadata": {},
   "outputs": [
    {
     "name": "stdout",
     "output_type": "stream",
     "text": [
      "3 : 3의 배수\n"
     ]
    }
   ],
   "source": [
    "a = int(input(\"정수: \"))\n",
    "if a%3 == 0:     \n",
    " print(a, \": 3의 배수\")\n",
    "else:     \n",
    " print(a, \": 3의 배수 아님\")"
   ]
  },
  {
   "cell_type": "code",
   "execution_count": 17,
   "metadata": {},
   "outputs": [
    {
     "name": "stdout",
     "output_type": "stream",
     "text": [
      "입장료: 5000\n"
     ]
    }
   ],
   "source": [
    "charge = 5000\n",
    "age = int(input(\"나이: \"))\n",
    "if age<8:     \n",
    " print(\"입장료: 0\")\n",
    "elif age<60:     \n",
    " print(\"입장료:\", charge)\n",
    "else:     \n",
    " print(\"입장료:\", charge*0.5)"
   ]
  },
  {
   "cell_type": "code",
   "execution_count": 8,
   "metadata": {},
   "outputs": [
    {
     "name": "stdout",
     "output_type": "stream",
     "text": [
      "5 : 3과 5의 배수 아님\n"
     ]
    }
   ],
   "source": [
    "a = int(input(\"정수: \"))\n",
    "if a%3==0 and a%5==0:     \n",
    " print(a, \": 3과 5의 배수\")\n",
    "else:     \n",
    " print(a, \": 3과 5의 배수 아님\")"
   ]
  },
  {
   "cell_type": "code",
   "execution_count": 18,
   "metadata": {},
   "outputs": [
    {
     "name": "stdout",
     "output_type": "stream",
     "text": [
      "입장료: 무료\n"
     ]
    }
   ],
   "source": [
    "age = int(input(\"나이: \"))\n",
    "if age<8 or age>=60:     \n",
    " print(\"입장료: 무료\")\n",
    "else:     \n",
    " print(\"입장료: 5000원\")"
   ]
  },
  {
   "cell_type": "code",
   "execution_count": null,
   "metadata": {},
   "outputs": [
    {
     "name": "stdout",
     "output_type": "stream",
     "text": [
      "요금: 2000\n"
     ]
    }
   ],
   "source": [
    "charge = 1000\n",
    "km = int(input(\"km: \"))\n",
    "if km<5:\n",
    "    print(\"요금:\", charge)\n",
    "elif km>=5 or km<=10:\n",
    "    print(\"요금:\", charge*2)\n",
    "else:\n",
    "    km>=10\n",
    "    print(\"요금:\", charge*3)    "
   ]
  },
  {
   "cell_type": "code",
   "execution_count": 20,
   "metadata": {},
   "outputs": [
    {
     "name": "stdout",
     "output_type": "stream",
     "text": [
      "가장 작은 수: 1\n"
     ]
    }
   ],
   "source": [
    "m = int(input(\"정수: \"))\n",
    "a = int(input(\"정수: \"))\n",
    "if a<m:\n",
    "    m = a\n",
    "a = int(input(\"정수: \"))\n",
    "if a<m:\n",
    "    m = a\n",
    "print(\"가장 작은 수:\", m)        "
   ]
  }
 ],
 "metadata": {
  "kernelspec": {
   "display_name": "Python 3",
   "language": "python",
   "name": "python3"
  },
  "language_info": {
   "codemirror_mode": {
    "name": "ipython",
    "version": 3
   },
   "file_extension": ".py",
   "mimetype": "text/x-python",
   "name": "python",
   "nbconvert_exporter": "python",
   "pygments_lexer": "ipython3",
   "version": "3.13.2"
  }
 },
 "nbformat": 4,
 "nbformat_minor": 2
}
