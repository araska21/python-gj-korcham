{
 "cells": [
  {
   "cell_type": "markdown",
   "metadata": {},
   "source": [
    "#파이썬 공부 첫날"
   ]
  },
  {
   "cell_type": "code",
   "execution_count": null,
   "metadata": {},
   "outputs": [],
   "source": [
    "print(\"안녕하세요.\")"
   ]
  },
  {
   "cell_type": "code",
   "execution_count": null,
   "metadata": {},
   "outputs": [],
   "source": [
    "print(\"저도 안녕합니다.\")"
   ]
  },
  {
   "cell_type": "markdown",
   "metadata": {},
   "source": [
    "# 파이썬 두번째"
   ]
  },
  {
   "cell_type": "code",
   "execution_count": null,
   "metadata": {},
   "outputs": [
    {
     "name": "stdout",
     "output_type": "stream",
     "text": [
      "개구리 알\n",
      "꼬리 달린 올챙이\n",
      "뒷 다리 있는 올챙이\n",
      "앞 뒤 다리 있는 올챙이\n",
      "개구리\n"
     ]
    }
   ],
   "source": [
    " print(\"개구리 알\")\n",
    " print(\"꼬리 달린 올챙이\")\n",
    " print(\"뒷 다리 있는 올챙이\")\n",
    " print(\"앞 뒤 다리 있는 올챙이\")\n",
    " print(\"개구리\")"
   ]
  },
  {
   "cell_type": "markdown",
   "metadata": {},
   "source": [
    "#파이썬 공부 3번째"
   ]
  },
  {
   "cell_type": "code",
   "execution_count": null,
   "metadata": {},
   "outputs": [
    {
     "name": "stdout",
     "output_type": "stream",
     "text": [
      "이름: 호호 나이: 123\n"
     ]
    }
   ],
   "source": [
    "name = input(\"이름: \")\n",
    "age = int(input(\"나이: \"))\n",
    "print(\"이름:\", name, \"나이:\", age)"
   ]
  },
  {
   "cell_type": "code",
   "execution_count": null,
   "metadata": {},
   "outputs": [],
   "source": [
    "a = int(input(\"정수: \"))\n",
    "b = int(input(\"정수: \"))\n",
    "if a>b:  \n",
    "    print(\"큰 수:\", a)\n",
    "else:  \n",
    "    print(\"큰 수:\", b)"
   ]
  },
  {
   "cell_type": "code",
   "execution_count": null,
   "metadata": {},
   "outputs": [
    {
     "name": "stdout",
     "output_type": "stream",
     "text": [
      "-5 : 음수\n"
     ]
    }
   ],
   "source": [
    "a = int(input(\"정수: \"))\n",
    "if a<0:    \n",
    " print(a, \": 음수\")\n",
    "elif a>0:     \n",
    " print(a, \": 양수\")\n",
    "else:     \n",
    " print(a, \": 0\")"
   ]
  },
  {
   "cell_type": "code",
   "execution_count": null,
   "metadata": {},
   "outputs": [
    {
     "name": "stdout",
     "output_type": "stream",
     "text": [
      "가장 큰 수 : 9\n"
     ]
    }
   ],
   "source": [
    "a = int(input(\"정수: \"))\n",
    "b = int(input(\"정수: \"))\n",
    "c = int(input(\"정수: \"))\n",
    "if a>b:     \n",
    " if a>c:        \n",
    "  print(\"가장 큰 수 :\", a)            \n",
    " else:\n",
    "  print(\"가장 큰 수 :\", c)\n",
    "else: \n",
    " if b>c:\n",
    "  print(\"가장 큰 수 :\", b)\n",
    " else:\n",
    "  print(\"가장 큰 수 :\", c)"
   ]
  },
  {
   "cell_type": "code",
   "execution_count": null,
   "metadata": {},
   "outputs": [
    {
     "name": "stdout",
     "output_type": "stream",
     "text": [
      "가장 큰 수: 7\n"
     ]
    }
   ],
   "source": [
    "m = int(input(\"정수: \"))\n",
    "a = int(input(\"정수: \"))\n",
    "if a>m:     \n",
    "    m = a\n",
    "a = int(input(\"정수: \"))\n",
    "if a>m:    \n",
    "  m = a\n",
    "print(\"가장 큰 수:\", m)"
   ]
  },
  {
   "cell_type": "code",
   "execution_count": null,
   "metadata": {},
   "outputs": [
    {
     "name": "stdout",
     "output_type": "stream",
     "text": [
      "1 : 홀수\n"
     ]
    }
   ],
   "source": [
    "a = int(input(\"정수: \"))\n",
    "if a%2 == 0:    \n",
    " print(a, \": 짝수\")\n",
    "else:     \n",
    " print(a, \": 홀수\")"
   ]
  },
  {
   "cell_type": "code",
   "execution_count": null,
   "metadata": {},
   "outputs": [
    {
     "name": "stdout",
     "output_type": "stream",
     "text": [
      "3 : 3의 배수\n"
     ]
    }
   ],
   "source": [
    "a = int(input(\"정수: \"))\n",
    "if a%3 == 0:     \n",
    " print(a, \": 3의 배수\")\n",
    "else:     \n",
    " print(a, \": 3의 배수 아님\")"
   ]
  },
  {
   "cell_type": "code",
   "execution_count": null,
   "metadata": {},
   "outputs": [
    {
     "name": "stdout",
     "output_type": "stream",
     "text": [
      "입장료: 5000\n"
     ]
    }
   ],
   "source": [
    "charge = 5000\n",
    "age = int(input(\"나이: \"))\n",
    "if age<8:     \n",
    " print(\"입장료: 0\")\n",
    "elif age<60:     \n",
    " print(\"입장료:\", charge)\n",
    "else:     \n",
    " print(\"입장료:\", charge*0.5)"
   ]
  },
  {
   "cell_type": "code",
   "execution_count": null,
   "metadata": {},
   "outputs": [
    {
     "name": "stdout",
     "output_type": "stream",
     "text": [
      "5 : 3과 5의 배수 아님\n"
     ]
    }
   ],
   "source": [
    "a = int(input(\"정수: \"))\n",
    "if a%3==0 and a%5==0:     \n",
    " print(a, \": 3과 5의 배수\")\n",
    "else:     \n",
    " print(a, \": 3과 5의 배수 아님\")"
   ]
  },
  {
   "cell_type": "code",
   "execution_count": null,
   "metadata": {},
   "outputs": [
    {
     "name": "stdout",
     "output_type": "stream",
     "text": [
      "입장료: 무료\n"
     ]
    }
   ],
   "source": [
    "age = int(input(\"나이: \"))\n",
    "if age<8 or age>=60:     \n",
    " print(\"입장료: 무료\")\n",
    "else:     \n",
    " print(\"입장료: 5000원\")"
   ]
  },
  {
   "cell_type": "code",
   "execution_count": null,
   "metadata": {},
   "outputs": [
    {
     "name": "stdout",
     "output_type": "stream",
     "text": [
      "요금: 2000\n"
     ]
    }
   ],
   "source": [
    "charge = 1000\n",
    "km = int(input(\"km: \"))\n",
    "if km<5:\n",
    "    print(\"요금:\", charge)\n",
    "elif km>=5 or km<=10:\n",
    "    print(\"요금:\", charge*2)\n",
    "else:\n",
    "    km>=10\n",
    "    print(\"요금:\", charge*3)    "
   ]
  },
  {
   "cell_type": "code",
   "execution_count": null,
   "metadata": {},
   "outputs": [
    {
     "name": "stdout",
     "output_type": "stream",
     "text": [
      "가장 작은 수: 1\n"
     ]
    }
   ],
   "source": [
    "m = int(input(\"정수: \"))\n",
    "a = int(input(\"정수: \"))\n",
    "if a<m:\n",
    "    m = a\n",
    "a = int(input(\"정수: \"))\n",
    "if a<m:\n",
    "    m = a\n",
    "print(\"가장 작은 수:\", m)        "
   ]
  },
  {
   "cell_type": "code",
   "execution_count": null,
   "metadata": {},
   "outputs": [],
   "source": [
    "a = int(input(\"정수: \"))\n",
    "b = int(input(\"정수: \"))\n",
    "print(\"덧셈:\", a+b, \"곱셈:\", a*b)"
   ]
  },
  {
   "cell_type": "code",
   "execution_count": null,
   "metadata": {},
   "outputs": [],
   "source": [
    "a = int(input(\"정수: \"))\n",
    "b = int(input(\"정수: \"))\n",
    "print(\"몫:\", a//b, \"나머지:\", a%b)\n"
   ]
  },
  {
   "cell_type": "code",
   "execution_count": null,
   "metadata": {},
   "outputs": [],
   "source": [
    "a = int(input(\"성적1: \"))\n",
    "b = int(input(\"성적2: \"))\n",
    "c = int(input(\"성적3: \"))\n",
    "sum = a+b+c\n",
    "print(\"총점:\", sum, \"평균:\", sum/3)"
   ]
  },
  {
   "cell_type": "code",
   "execution_count": null,
   "metadata": {},
   "outputs": [],
   "source": [
    "s = int(input(\"초 단위의 시간: \"))\n",
    "h = s//3600\n",
    "s = s%3600\n",
    "m = s//60\n",
    "s = s%60\n",
    "print(h, \"시간\", m, \"분\", s, \"초\")"
   ]
  },
  {
   "cell_type": "code",
   "execution_count": null,
   "metadata": {},
   "outputs": [
    {
     "name": "stdout",
     "output_type": "stream",
     "text": [
      "8\n",
      "2\n",
      "15\n",
      "1.6666666666666667\n",
      "1\n",
      "2\n",
      "125\n"
     ]
    }
   ],
   "source": [
    "print(5+3)\n",
    "print(5-3)\n",
    "print(5*3)\n",
    "print(5/3)\n",
    "print(5//3)\n",
    "print(5%3)\n",
    "print(5**3)"
   ]
  },
  {
   "cell_type": "markdown",
   "metadata": {},
   "source": [
    "### 1부터 10까지 출력하기(1)"
   ]
  },
  {
   "cell_type": "code",
   "execution_count": null,
   "metadata": {},
   "outputs": [],
   "source": [
    "i=1\n",
    "while i<=10:     \n",
    " print(i, end=\" \")    \n",
    " i = i+1"
   ]
  },
  {
   "cell_type": "markdown",
   "metadata": {},
   "source": [
    "### 1부터 10까지 출력하기(2)"
   ]
  },
  {
   "cell_type": "code",
   "execution_count": null,
   "metadata": {},
   "outputs": [],
   "source": [
    "for i in range(1, 11):    \n",
    " print(i, end=\" \")"
   ]
  },
  {
   "cell_type": "markdown",
   "metadata": {},
   "source": [
    "### 10부터 1까지 출력하기"
   ]
  },
  {
   "cell_type": "code",
   "execution_count": null,
   "metadata": {},
   "outputs": [],
   "source": [
    "for i in range(10, 0, -1):    \n",
    " print(i, end=\" \")"
   ]
  },
  {
   "cell_type": "markdown",
   "metadata": {},
   "source": [
    "### 1부터 100까지의 합 구하기"
   ]
  },
  {
   "cell_type": "code",
   "execution_count": null,
   "metadata": {},
   "outputs": [],
   "source": [
    "sum = 0\n",
    "for i in range(1, 101):     \n",
    " sum = sum+i\n",
    "print(sum)"
   ]
  },
  {
   "cell_type": "markdown",
   "metadata": {},
   "source": [
    "### 1부터 100까지 중 짝수의 합 구하기(1)"
   ]
  },
  {
   "cell_type": "code",
   "execution_count": null,
   "metadata": {},
   "outputs": [],
   "source": [
    "sum = 0\n",
    "for i in range(2, 101, 2):    \n",
    " sum = sum+i\n",
    "print(sum)"
   ]
  },
  {
   "cell_type": "markdown",
   "metadata": {},
   "source": [
    "### 1부터 100까지 중 짝수의 합 구하기(2)"
   ]
  },
  {
   "cell_type": "code",
   "execution_count": null,
   "metadata": {},
   "outputs": [],
   "source": [
    "sum = 0\n",
    "for i in range(1, 101):     \n",
    " if i%2==0:        \n",
    "   sum = sum+i\n",
    "print(sum)"
   ]
  },
  {
   "cell_type": "markdown",
   "metadata": {},
   "source": [
    "### 1,-2,3,....,99,-100의 합 구하기"
   ]
  },
  {
   "cell_type": "code",
   "execution_count": null,
   "metadata": {},
   "outputs": [],
   "source": [
    "sum = 0\n",
    "for i in range(1, 101):     \n",
    " if i%2==0:         \n",
    "  sum=sum-i\n",
    " else:\n",
    "  sum=sum+i\n",
    "print(sum)"
   ]
  },
  {
   "cell_type": "markdown",
   "metadata": {},
   "source": [
    "### 계승 구하기"
   ]
  },
  {
   "cell_type": "code",
   "execution_count": null,
   "metadata": {},
   "outputs": [],
   "source": [
    "fact = 1\n",
    "for i in range(5, 0, -1):     \n",
    " fact = fact*i\n",
    "print(fact)"
   ]
  },
  {
   "cell_type": "markdown",
   "metadata": {},
   "source": [
    "### 약수 구하기"
   ]
  },
  {
   "cell_type": "code",
   "execution_count": null,
   "metadata": {},
   "outputs": [],
   "source": [
    "n = int(input(\"정수: \"))\n",
    "for i in range(1, n+1):     \n",
    " if n%i == 0:        \n",
    "   print(i, end=\" \")"
   ]
  },
  {
   "cell_type": "markdown",
   "metadata": {},
   "source": [
    "### 공약수 구하기"
   ]
  },
  {
   "cell_type": "code",
   "execution_count": null,
   "metadata": {},
   "outputs": [],
   "source": [
    "n1 = int(input(\"정수: \"))\n",
    "n2 = int(input(\"정수: \"))\n",
    "for i in range(1, n1+1):     \n",
    " if n1%i == 0 and n2%i == 0:         \n",
    "  print(i, end=\" \")"
   ]
  },
  {
   "cell_type": "markdown",
   "metadata": {},
   "source": [
    "### 최대공약수 구하기"
   ]
  },
  {
   "cell_type": "code",
   "execution_count": null,
   "metadata": {},
   "outputs": [],
   "source": [
    "n1 = int(input(\"정수: \"))\n",
    "n2 = int(input(\"정수: \"))\n",
    "for i in range(n1, 0, -1):     \n",
    " if n1%i==0 and n2%i==0:                 \n",
    "  print(i)\n",
    "  break"
   ]
  },
  {
   "cell_type": "markdown",
   "metadata": {},
   "source": [
    "### 소수 판별하기"
   ]
  },
  {
   "cell_type": "code",
   "execution_count": null,
   "metadata": {},
   "outputs": [],
   "source": [
    "chk = 1\n",
    "n = int(input(\"정수: \"))\n",
    "for i in range(2, n):     \n",
    "    if n%i == 0:                  \n",
    "      chk = 0\n",
    "      break\n",
    "if chk==1:     \n",
    "   print(n, \": 소수임\")\n",
    "else:     \n",
    "   print(n, \": 소수아님\")"
   ]
  },
  {
   "cell_type": "markdown",
   "metadata": {},
   "source": [
    "### 피보나치수열 구하기"
   ]
  },
  {
   "cell_type": "code",
   "execution_count": null,
   "metadata": {},
   "outputs": [],
   "source": [
    "a = 1\n",
    "b = 1\n",
    "print(a, b, end=\" \")\n",
    "for i in range(3, 21):     \n",
    " c = a+b      \n",
    " print(c, end=\" \")\n",
    " a = b\n",
    " b = c"
   ]
  },
  {
   "cell_type": "markdown",
   "metadata": {},
   "source": [
    "### 최댓값 구하기"
   ]
  },
  {
   "cell_type": "code",
   "execution_count": null,
   "metadata": {},
   "outputs": [],
   "source": [
    "a = int(input(\"정수: \"))\n",
    "m = a\n",
    "while a!=0:         \n",
    " if a>m:\n",
    "  m = a\n",
    " a = int(input(\"정수: \"))\n",
    "print(\"최댓값 :\", m)"
   ]
  },
  {
   "cell_type": "markdown",
   "metadata": {},
   "source": [
    "### 직각 삼각형 모양으로 수 출력하기"
   ]
  },
  {
   "cell_type": "code",
   "execution_count": null,
   "metadata": {},
   "outputs": [],
   "source": [
    "for i in range(1, 6):\n",
    " for j in range(1, i+1):              \n",
    "  print(j, end=\" \")\n",
    " print()"
   ]
  },
  {
   "cell_type": "markdown",
   "metadata": {},
   "source": [
    "### 1부터 10까지의 정수에 대한 약수 구하기"
   ]
  },
  {
   "cell_type": "code",
   "execution_count": null,
   "metadata": {},
   "outputs": [],
   "source": [
    "for i in range(1, 11):\n",
    " print(i, \"약수:\", end=\" \")     \n",
    " for j in range(1, i+1):\n",
    "  if i%j==0:\n",
    "   print(j, end=\" \")\n",
    " print()"
   ]
  },
  {
   "cell_type": "markdown",
   "metadata": {},
   "source": [
    "### 2부터 100까지의 소수 구하기"
   ]
  },
  {
   "cell_type": "code",
   "execution_count": null,
   "metadata": {},
   "outputs": [],
   "source": [
    "for i in range(2, 101):     \n",
    "   chk = 1     \n",
    "   for j in range(2, i):\n",
    "    if i%j==0:\n",
    "     chk = 0\n",
    "     break\n",
    "   if chk==1:\n",
    "    print(i, end=\" \")"
   ]
  },
  {
   "cell_type": "markdown",
   "metadata": {},
   "source": [
    "### 합구하기"
   ]
  },
  {
   "cell_type": "code",
   "execution_count": null,
   "metadata": {},
   "outputs": [],
   "source": [
    "n = 0\n",
    "sum = 0\n",
    "for i in range(1, 11):\n",
    "    n = n+i\n",
    "    sum = sum+n\n",
    "print(sum)"
   ]
  },
  {
   "cell_type": "markdown",
   "metadata": {},
   "source": [
    "### 구구단"
   ]
  },
  {
   "cell_type": "code",
   "execution_count": null,
   "metadata": {},
   "outputs": [],
   "source": [
    "for i in range(2, 10):    \n",
    "   for j in range(1, 10):    \n",
    "        print(i, \"*\", j, \"=\", i*j, end=\" \")\n",
    "   print()"
   ]
  },
  {
   "cell_type": "markdown",
   "metadata": {},
   "source": [
    "### 5부터 15까지 출력하기"
   ]
  },
  {
   "cell_type": "code",
   "execution_count": null,
   "metadata": {},
   "outputs": [],
   "source": [
    "i=5\n",
    "while i<=15:\n",
    " print(i, end=\" \")\n",
    " i = i+1"
   ]
  },
  {
   "cell_type": "markdown",
   "metadata": {},
   "source": [
    "### while형 반복 구조로 10부터 1까지 출력하기"
   ]
  },
  {
   "cell_type": "code",
   "execution_count": null,
   "metadata": {},
   "outputs": [],
   "source": [
    "i=10\n",
    "while i>=1:\n",
    "    print(i, end=\" \")\n",
    "    i = i-1"
   ]
  },
  {
   "cell_type": "markdown",
   "metadata": {},
   "source": [
    "### 1부터 입력받은 수까지의 합 출력하기"
   ]
  },
  {
   "cell_type": "code",
   "execution_count": null,
   "metadata": {},
   "outputs": [],
   "source": [
    "sum = 1\n",
    "for i in range(1, int(input(\"정수: \"))):\n",
    "    sum = sum+i\n",
    "print(sum)    "
   ]
  },
  {
   "cell_type": "markdown",
   "metadata": {},
   "source": [
    "### 3의 배수의 합을 출력"
   ]
  },
  {
   "cell_type": "code",
   "execution_count": null,
   "metadata": {},
   "outputs": [],
   "source": [
    "sum = 0\n",
    "for i in range(1, 101, 3):\n",
    "    sum = sum+i\n",
    "print(sum)    "
   ]
  },
  {
   "cell_type": "markdown",
   "metadata": {},
   "source": [
    "### 3의 배수의 합을 출력"
   ]
  },
  {
   "cell_type": "code",
   "execution_count": null,
   "metadata": {},
   "outputs": [],
   "source": [
    "sum =0 \n",
    "for i in range(1, 101):\n",
    "    if i%3==0:\n",
    "        sum = sum+i\n",
    "print(sum)"
   ]
  },
  {
   "cell_type": "markdown",
   "metadata": {},
   "source": [
    "### 합 출력"
   ]
  },
  {
   "cell_type": "code",
   "execution_count": null,
   "metadata": {},
   "outputs": [],
   "source": [
    "sum = 0\n",
    "for i in range(1, 101):\n",
    "    if i%3==0:\n",
    "        sum=sum-i\n",
    "    else:\n",
    "        sum=sum+i\n",
    "print(sum)"
   ]
  },
  {
   "cell_type": "markdown",
   "metadata": {},
   "source": [
    "### 약수 구하기"
   ]
  },
  {
   "cell_type": "code",
   "execution_count": null,
   "metadata": {},
   "outputs": [],
   "source": [
    "n = int(input(\"정수= \"))\n",
    "for i in range(1, n+1):\n",
    "    if n%i == 0:\n",
    "        print(i, end=\" \")"
   ]
  },
  {
   "cell_type": "markdown",
   "metadata": {},
   "source": [
    "### 세 수의 공약수 구하기"
   ]
  },
  {
   "cell_type": "code",
   "execution_count": null,
   "metadata": {},
   "outputs": [],
   "source": [
    "n1 = int(input(\"정수: \"))\n",
    "n2 = int(input(\"정수: \"))\n",
    "n3 = int(input(\"정수: \"))\n",
    "for i in range(1, n1+1):\n",
    "    if n1%i == 0 and n2%i == 0 and n3%i == 0:\n",
    "        print(i, end=\" \")"
   ]
  },
  {
   "cell_type": "markdown",
   "metadata": {},
   "source": [
    "### 피보나치수열의 합"
   ]
  },
  {
   "cell_type": "code",
   "execution_count": null,
   "metadata": {},
   "outputs": [],
   "source": [
    "a = 1\n",
    "b = 1\n",
    "sum = a+b\n",
    "for i in range(3, 21):\n",
    "    c = a+b\n",
    "    a=b\n",
    "    b=c\n",
    "    sum = sum + c\n",
    "print(sum)\n",
    " "
   ]
  },
  {
   "cell_type": "markdown",
   "metadata": {},
   "source": [
    "### 최솟값을 구하기"
   ]
  },
  {
   "cell_type": "code",
   "execution_count": null,
   "metadata": {},
   "outputs": [],
   "source": [
    "a = int(input(\"정수: \"))\n",
    "m = a\n",
    "while a!=0:\n",
    "    if a<m:\n",
    "        m=a\n",
    "    a = int(input(\"정수 :\"))\n",
    "print(\"최솟값: \", m)"
   ]
  },
  {
   "cell_type": "markdown",
   "metadata": {},
   "source": [
    "### 직각 삼각형 모양으로 수 출력"
   ]
  },
  {
   "cell_type": "code",
   "execution_count": null,
   "metadata": {},
   "outputs": [],
   "source": [
    "for i in range(6, 1, -1):\n",
    "    for j in range(1, i):\n",
    "        print(j, end=\" \")\n",
    "    print()"
   ]
  },
  {
   "cell_type": "code",
   "execution_count": null,
   "metadata": {},
   "outputs": [],
   "source": [
    "for i in range(5, 0, -1):\n",
    "    for j in range(i, 0, -1):\n",
    "        print(j, end=\" \")\n",
    "    print()"
   ]
  },
  {
   "cell_type": "markdown",
   "metadata": {},
   "source": [
    "### 1! 2! ... 5!의 합 구하기"
   ]
  },
  {
   "cell_type": "code",
   "execution_count": null,
   "metadata": {},
   "outputs": [],
   "source": [
    "n = 1\n",
    "sum = 0\n",
    "for i in range(1, 6):\n",
    "       n = n*i\n",
    "       sum = sum+n\n",
    "print(sum)"
   ]
  },
  {
   "cell_type": "markdown",
   "metadata": {},
   "source": [
    "### 1부터 10까지의 수 저장 및 출력"
   ]
  },
  {
   "cell_type": "code",
   "execution_count": null,
   "metadata": {},
   "outputs": [
    {
     "name": "stdout",
     "output_type": "stream",
     "text": [
      "[1, 2, 3, 4, 5, 6, 7, 8, 9, 10]\n"
     ]
    }
   ],
   "source": [
    "a = []\n",
    "for i in range(1, 11):     \n",
    " a.append(i)\n",
    "print(a)"
   ]
  },
  {
   "cell_type": "markdown",
   "metadata": {},
   "source": [
    "### 10부터 1까지의 수 저장 및 출력"
   ]
  },
  {
   "cell_type": "code",
   "execution_count": null,
   "metadata": {},
   "outputs": [
    {
     "name": "stdout",
     "output_type": "stream",
     "text": [
      "[10, 9, 8, 7, 6, 5, 4, 3, 2, 1]\n"
     ]
    }
   ],
   "source": [
    "a = []\n",
    "for i in range(10, 0, -1):\n",
    "    a.append(i)\n",
    "print(a)"
   ]
  },
  {
   "cell_type": "markdown",
   "metadata": {},
   "source": [
    "### 10,20,.....,100 저장하고 거꾸로 출력하기"
   ]
  },
  {
   "cell_type": "code",
   "execution_count": null,
   "metadata": {},
   "outputs": [
    {
     "name": "stdout",
     "output_type": "stream",
     "text": [
      "100 90 80 70 60 50 40 30 20 10 "
     ]
    }
   ],
   "source": [
    "a = []\n",
    "for i in range(10, 101, 10):\n",
    "  a.append(i)\n",
    "for i in range(9, -1, -1):     \n",
    " print(a[i], end=\" \")"
   ]
  },
  {
   "cell_type": "markdown",
   "metadata": {},
   "source": [
    "### 배열 요소 거꾸로 뒤집기"
   ]
  },
  {
   "cell_type": "code",
   "execution_count": null,
   "metadata": {},
   "outputs": [
    {
     "name": "stdout",
     "output_type": "stream",
     "text": [
      "[10, 9, 8, 7, 6, 5, 4, 3, 2, 1]\n"
     ]
    }
   ],
   "source": [
    "a = [1, 2, 3, 4, 5, 6, 7, 8, 9, 10]\n",
    "for i in range(0, 5):  \n",
    "  temp = a[i]   \n",
    "  a[i] = a[9-i] \n",
    "  a[9-i] = temp\n",
    "print(a)"
   ]
  },
  {
   "cell_type": "markdown",
   "metadata": {},
   "source": [
    "### 배열 a 요소 배열 b에 거꾸로 저장하기"
   ]
  },
  {
   "cell_type": "code",
   "execution_count": null,
   "metadata": {},
   "outputs": [
    {
     "name": "stdout",
     "output_type": "stream",
     "text": [
      "[10, 9, 8, 7, 6, 5, 4, 3, 2, 1]\n"
     ]
    }
   ],
   "source": [
    "a = [1, 2, 3, 4, 5, 6, 7, 8, 9, 10]\n",
    "b = []\n",
    "for i in range(0, 10):     \n",
    "     b.append(a[9-i])\n",
    "print(b)"
   ]
  },
  {
   "cell_type": "markdown",
   "metadata": {},
   "source": [
    "### 배열 요소 왼쪽으로 한 칸씩 원형으로 이동하기"
   ]
  },
  {
   "cell_type": "code",
   "execution_count": null,
   "metadata": {},
   "outputs": [
    {
     "name": "stdout",
     "output_type": "stream",
     "text": [
      "[2, 3, 4, 5, 6, 7, 8, 9, 10, 1]\n"
     ]
    }
   ],
   "source": [
    "a = [1, 2, 3, 4, 5, 6, 7, 8, 9, 10]\n",
    "temp = a[0]\n",
    "for i in range(0, 9):\n",
    "  a[i] = a[i+1]\n",
    "a[9] = temp\n",
    "print(a)"
   ]
  },
  {
   "cell_type": "markdown",
   "metadata": {},
   "source": [
    "### 배열 요소 오른쪽으로 한 칸씩 원형으로 이동하기"
   ]
  },
  {
   "cell_type": "code",
   "execution_count": null,
   "metadata": {},
   "outputs": [
    {
     "name": "stdout",
     "output_type": "stream",
     "text": [
      "[10, 1, 2, 3, 4, 5, 6, 7, 8, 9]\n"
     ]
    }
   ],
   "source": [
    "a = [1, 2, 3, 4, 5, 6, 7, 8, 9, 10]\n",
    "temp = a[9]\n",
    "for i in range(9, 0, -1):\n",
    " a[i] = a[i-1]\n",
    "a[0] = temp\n",
    "print(a)"
   ]
  },
  {
   "cell_type": "markdown",
   "metadata": {},
   "source": [
    "### 배열 최댓값 구하기"
   ]
  },
  {
   "cell_type": "code",
   "execution_count": null,
   "metadata": {},
   "outputs": [
    {
     "name": "stdout",
     "output_type": "stream",
     "text": [
      "[85, 79, 45, 78, 65, 1, 46, 51, 82, 58]\n",
      "최댓값: 85\n"
     ]
    }
   ],
   "source": [
    "import random\n",
    "a = []\n",
    "for i in range(10):\n",
    " a.append(random.randint(1, 100))\n",
    "print(a)\n",
    "m = a[0]\n",
    "for i in range(1, 10):\n",
    " if m<a[i]:        \n",
    "    m = a[i]\n",
    "print(\"최댓값:\", m)"
   ]
  },
  {
   "cell_type": "markdown",
   "metadata": {},
   "source": [
    "### 배열 최솟값 구하기"
   ]
  },
  {
   "cell_type": "code",
   "execution_count": null,
   "metadata": {},
   "outputs": [
    {
     "name": "stdout",
     "output_type": "stream",
     "text": [
      "[70, 75, 45, 9, 49, 66, 80, 53, 9, 64]\n",
      "최솟값: 9\n"
     ]
    }
   ],
   "source": [
    "import random\n",
    "a = []\n",
    "for i in range(10):\n",
    "    a.append(random.randint(1, 100))\n",
    "print(a)\n",
    "m = a[0]\n",
    "for i in range(1, 10):\n",
    "    if m>a[i]:\n",
    "        m = a[i]\n",
    "print(\"최솟값:\", m)"
   ]
  },
  {
   "cell_type": "markdown",
   "metadata": {},
   "source": [
    "### 에라토스테네스의 체"
   ]
  },
  {
   "cell_type": "code",
   "execution_count": null,
   "metadata": {},
   "outputs": [
    {
     "name": "stdout",
     "output_type": "stream",
     "text": [
      "2 3 5 7 11 13 17 19 23 29 31 37 41 43 47 53 59 61 67 71 73 79 83 89 97 "
     ]
    }
   ],
   "source": [
    "a = []\n",
    "for i in range(1, 102):\n",
    " a.append(0)\n",
    "for i in range(2, 101):\n",
    "    if a[i]==0:\n",
    "     for j in range(i*2, 101, i):\n",
    "        a[j] = 1\n",
    "for i in range(2, 101):         \n",
    "  if a[i]==0:\n",
    "    print(i, end=\" \")"
   ]
  },
  {
   "cell_type": "markdown",
   "metadata": {},
   "source": [
    "### 10진수를 2진수로 변환하여 배열에 저장하기"
   ]
  },
  {
   "cell_type": "code",
   "execution_count": null,
   "metadata": {},
   "outputs": [
    {
     "name": "stdout",
     "output_type": "stream",
     "text": [
      "1 1 0 1 0 0 "
     ]
    }
   ],
   "source": [
    "b = []\n",
    "n = int(input(\"10진수: \"))\n",
    "while n!=0:\n",
    " b.append(n%2)\n",
    " n = n//2\n",
    "for i in range(len(b)-1, -1, -1):\n",
    " print(b[i], end=\" \")"
   ]
  },
  {
   "cell_type": "markdown",
   "metadata": {},
   "source": [
    "### 10진수를 8진수로 변환하여 배열에 저장하기"
   ]
  },
  {
   "cell_type": "code",
   "execution_count": null,
   "metadata": {},
   "outputs": [
    {
     "name": "stdout",
     "output_type": "stream",
     "text": [
      "6 4 "
     ]
    }
   ],
   "source": [
    "b =[]\n",
    "n = int(input(\"10진수: \"))\n",
    "while n!=0:\n",
    "    b.append(n%8)\n",
    "    n = n//8\n",
    "for i in range(len(b)-1, -1, -1):\n",
    "    print(b[i], end=\" \")"
   ]
  },
  {
   "cell_type": "markdown",
   "metadata": {},
   "source": [
    "### 배열에 저장된 2진수를 10진수로 변환하기"
   ]
  },
  {
   "cell_type": "code",
   "execution_count": null,
   "metadata": {},
   "outputs": [
    {
     "name": "stdout",
     "output_type": "stream",
     "text": [
      "25\n"
     ]
    }
   ],
   "source": [
    "b = [1,1,0,0,1]\n",
    "n = 0\n",
    "for i in range(0, 5):\n",
    " n = n + b[i]*(2**(4-i))\n",
    "print(n)"
   ]
  },
  {
   "cell_type": "markdown",
   "metadata": {},
   "source": [
    "### 배열에 저장된 8진수를 10진수로 변환하기"
   ]
  },
  {
   "cell_type": "code",
   "execution_count": null,
   "metadata": {},
   "outputs": [
    {
     "name": "stdout",
     "output_type": "stream",
     "text": [
      "52\n"
     ]
    }
   ],
   "source": [
    "b = [6, 4]\n",
    "n = 0\n",
    "for i in range(0, 2):\n",
    " n = n + b[i]*(8**(1-i))\n",
    "print(n)"
   ]
  },
  {
   "cell_type": "markdown",
   "metadata": {},
   "source": [
    "### 선형 탐색"
   ]
  },
  {
   "cell_type": "code",
   "execution_count": null,
   "metadata": {},
   "outputs": [
    {
     "name": "stdout",
     "output_type": "stream",
     "text": [
      "1 에서 탐색 성공\n"
     ]
    }
   ],
   "source": [
    "a = [26, 27, 39, 63, 57, 75, 11, 76, 80, 18]\n",
    "key = int(input(\"키: \"))\n",
    "cnt = 0\n",
    "while cnt<10:\n",
    "     if key == a[cnt]:   \n",
    "       print(cnt, \"에서 탐색 성공\")\n",
    "       break\n",
    "     cnt = cnt+1\n",
    "if cnt == 10:\n",
    "   print(\"탐색 실패\")"
   ]
  },
  {
   "cell_type": "code",
   "execution_count": null,
   "metadata": {},
   "outputs": [
    {
     "name": "stdout",
     "output_type": "stream",
     "text": [
      "5 에서 탐색 성공\n"
     ]
    }
   ],
   "source": [
    "a = [26, 27, 39, 63, 57, 75, 11, 76, 80, 18]\n",
    "key = int(input(\"키 : \"))\n",
    "if key in a:\n",
    " print(a.index(key), \"에서 탐색 성공\")\n",
    "else:\n",
    " print(\"탐색 실패\")"
   ]
  },
  {
   "cell_type": "markdown",
   "metadata": {},
   "source": [
    "### 이진 탐색"
   ]
  },
  {
   "cell_type": "code",
   "execution_count": null,
   "metadata": {},
   "outputs": [
    {
     "name": "stdout",
     "output_type": "stream",
     "text": [
      "7 에서 탐색 성공\n"
     ]
    }
   ],
   "source": [
    "a = [11, 18, 26, 27, 39, 57, 63, 75, 76, 80]\n",
    "key = int(input(\"키 : \"))\n",
    "low = 0\n",
    "high = 9\n",
    "while low<=high:   \n",
    "    mid = (low+high)//2\n",
    "    if  key == a[mid]:\n",
    "     print(mid, \"에서 탐색 성공\")\n",
    "     break\n",
    "    elif key < a[mid]:\n",
    "     high = mid-1\n",
    "    else:\n",
    "     low = mid+1\n",
    "if low > high:\n",
    " print(\"탐색 실패\")"
   ]
  },
  {
   "cell_type": "markdown",
   "metadata": {},
   "source": [
    "### 내림차순으로 정렬된 데이터 집합에 대한 이진 탐색"
   ]
  },
  {
   "cell_type": "code",
   "execution_count": null,
   "metadata": {},
   "outputs": [
    {
     "name": "stdout",
     "output_type": "stream",
     "text": [
      "6 에서 탐색 성공\n"
     ]
    }
   ],
   "source": [
    "a = [90, 85, 74, 68, 54, 47, 35, 21, 18, 8]\n",
    "key = int(input(\"키 : \"))\n",
    "low = 0\n",
    "high = 9\n",
    "while low<=high:   \n",
    "    mid = (low+high)//2\n",
    "    if  key == a[mid]:\n",
    "     print(mid, \"에서 탐색 성공\")\n",
    "     break\n",
    "    elif key > a[mid]:\n",
    "     high = mid-1\n",
    "    else:\n",
    "     low = mid+1\n",
    "if low > high:\n",
    " print(\"탐색 실패\")"
   ]
  },
  {
   "cell_type": "markdown",
   "metadata": {},
   "source": [
    "### 선택 정렬"
   ]
  },
  {
   "cell_type": "code",
   "execution_count": null,
   "metadata": {},
   "outputs": [
    {
     "name": "stdout",
     "output_type": "stream",
     "text": [
      "[10, 20, 30, 40, 50, 60]\n"
     ]
    }
   ],
   "source": [
    "a = [20, 50, 30, 10, 60, 40]\n",
    "for i in range(0, 5):    \n",
    "   m = i     \n",
    "   for j in range(i+1, 6):\n",
    "    if a[j]<a[m]:\n",
    "      m = j\n",
    "   temp = a[i]     \n",
    "   a[i] = a[m]\n",
    "   a[m] = temp\n",
    "print(a)"
   ]
  },
  {
   "cell_type": "code",
   "execution_count": null,
   "metadata": {},
   "outputs": [
    {
     "name": "stdout",
     "output_type": "stream",
     "text": [
      "[10, 20, 30, 40, 50, 60]\n"
     ]
    }
   ],
   "source": [
    "a = [20, 50, 30, 10, 60, 40]\n",
    "a.sort()\n",
    "print(a)"
   ]
  },
  {
   "cell_type": "markdown",
   "metadata": {},
   "source": [
    "### 버블 정렬"
   ]
  },
  {
   "cell_type": "code",
   "execution_count": null,
   "metadata": {},
   "outputs": [
    {
     "name": "stdout",
     "output_type": "stream",
     "text": [
      "[10, 20, 30, 40, 50, 60]\n"
     ]
    }
   ],
   "source": [
    "a = [20, 50, 30, 10, 60, 40]\n",
    "for i in range(0, 5):\n",
    " for j in range(0, 5-i):\n",
    "   if a[j]>a[j+1]:\n",
    "    temp = a[j]\n",
    "    a[j] = a[j+1]\n",
    "    a[j+1] = temp            \n",
    "print(a)"
   ]
  },
  {
   "cell_type": "markdown",
   "metadata": {},
   "source": [
    "### 병합 정렬"
   ]
  },
  {
   "cell_type": "code",
   "execution_count": null,
   "metadata": {},
   "outputs": [
    {
     "name": "stdout",
     "output_type": "stream",
     "text": [
      "[1, 3, 3, 4, 5, 7, 8, 10]\n"
     ]
    }
   ],
   "source": [
    "a = [1, 3, 5, 7]\n",
    "b = [3, 4, 8, 10]\n",
    "c = []\n",
    "i = 0\n",
    "j = 0\n",
    "while i<4 and j<4:\n",
    "    if a[i]<b[j]:    \n",
    "      c.append(a[i])\n",
    "      i = i+1\n",
    "    else:\n",
    "      c.append(b[j])\n",
    "      j = j+1  \n",
    "if i==4:\n",
    "    while j<4:\n",
    "     c.append(b[j])\n",
    "     j = j+1\n",
    "else:\n",
    "    while i<4:\n",
    "     c.append(a[i])\n",
    "     i = i+1\n",
    "print(c)"
   ]
  },
  {
   "cell_type": "markdown",
   "metadata": {},
   "source": [
    "### 함수 이용해서 두 수 중 큰 수 찾기"
   ]
  },
  {
   "cell_type": "code",
   "execution_count": null,
   "metadata": {},
   "outputs": [
    {
     "name": "stdout",
     "output_type": "stream",
     "text": [
      "7\n"
     ]
    }
   ],
   "source": [
    "def func(a,b):\n",
    "     if a>b:\n",
    "         return a\n",
    "     else:\n",
    "         return b\n",
    "a = int(input(\"정수: \"))\n",
    "b = int(input(\"정수: \"))\n",
    "r = func(a, b)\n",
    "print(r)"
   ]
  },
  {
   "cell_type": "code",
   "execution_count": null,
   "metadata": {},
   "outputs": [
    {
     "name": "stdout",
     "output_type": "stream",
     "text": [
      "3\n"
     ]
    }
   ],
   "source": [
    "def func(a, b):\n",
    "    if a<b:\n",
    "        return a\n",
    "    else: \n",
    "        return b\n",
    "a = int(input(\"정수: \"))\n",
    "b = int(input(\"정수: \"))\n",
    "r = func(a, b)\n",
    "print(r)"
   ]
  },
  {
   "cell_type": "markdown",
   "metadata": {},
   "source": [
    "### 함수 이용해서 큰 수 찾기"
   ]
  },
  {
   "cell_type": "code",
   "execution_count": null,
   "metadata": {},
   "outputs": [
    {
     "name": "stdout",
     "output_type": "stream",
     "text": [
      "9\n"
     ]
    }
   ],
   "source": [
    "def func(a, b, c):\n",
    "    if a>b:\n",
    "        if a>c:\n",
    "            return a\n",
    "        else: \n",
    "            return c\n",
    "    else: \n",
    "        if b>c:\n",
    "            return b\n",
    "        else:\n",
    "            return c\n",
    "a = int(input(\"정수: \"))\n",
    "b = int(input(\"정수: \"))\n",
    "c = int(input(\"정수: \"))\n",
    "r = func(a, b, c)\n",
    "print(r)"
   ]
  },
  {
   "cell_type": "markdown",
   "metadata": {},
   "source": [
    "### 함수 이용해서 1부터 10까지의 약수 구하기"
   ]
  },
  {
   "cell_type": "code",
   "execution_count": null,
   "metadata": {},
   "outputs": [
    {
     "name": "stdout",
     "output_type": "stream",
     "text": [
      "1 : 1 \n",
      "2 : 1 2 \n",
      "3 : 1 3 \n",
      "4 : 1 2 4 \n",
      "5 : 1 5 \n",
      "6 : 1 2 3 6 \n",
      "7 : 1 7 \n",
      "8 : 1 2 4 8 \n",
      "9 : 1 3 9 \n",
      "10 : 1 2 5 10 \n"
     ]
    }
   ],
   "source": [
    "def func(a):\n",
    "    for i in range(1, a+1):\n",
    "        if a%i==0:\n",
    "            print(i, end=\" \")\n",
    "for i in range (1, 11):\n",
    "    print(i, ':', end=\" \")\n",
    "    func(i)\n",
    "    print()"
   ]
  },
  {
   "cell_type": "markdown",
   "metadata": {},
   "source": [
    "### 소수 판별하는 함수"
   ]
  },
  {
   "cell_type": "code",
   "execution_count": null,
   "metadata": {},
   "outputs": [
    {
     "name": "stdout",
     "output_type": "stream",
     "text": [
      "2 : \n",
      "3 : \n",
      "4 : 2 \n",
      "5 : \n",
      "6 : 2 3 \n",
      "7 : \n",
      "8 : 2 4 \n",
      "9 : 3 \n",
      "10 : 2 5 \n"
     ]
    }
   ],
   "source": [
    "def func(a):\n",
    "    for i in range(2, a):\n",
    "        if a%i==0:\n",
    "            print(i, end=\" \")\n",
    "for i in range(2, 11):\n",
    "    print(i, \":\", end=\" \")\n",
    "    func(i)\n",
    "    print()"
   ]
  },
  {
   "cell_type": "code",
   "execution_count": null,
   "metadata": {},
   "outputs": [
    {
     "name": "stdout",
     "output_type": "stream",
     "text": [
      "2 : 소수\n",
      "3 : 소수\n",
      "4 : 소수아님\n",
      "5 : 소수\n",
      "6 : 소수아님\n",
      "7 : 소수\n",
      "8 : 소수아님\n",
      "9 : 소수아님\n",
      "10 : 소수아님\n"
     ]
    }
   ],
   "source": [
    "def func(a):\n",
    "    chk = 1\n",
    "    for i in range(2, a):\n",
    "        if a%i==0:\n",
    "            chk=0\n",
    "            break\n",
    "    if chk==1:\n",
    "        print(a, \": 소수\")\n",
    "    else:\n",
    "        print(a, \": 소수아님\")\n",
    "for i in range(2, 11):\n",
    "    func(i)"
   ]
  },
  {
   "cell_type": "markdown",
   "metadata": {},
   "source": [
    "### 재귀함수 이용해서 1부터 입력 받은 수까지의 합 구하기"
   ]
  },
  {
   "cell_type": "code",
   "execution_count": null,
   "metadata": {},
   "outputs": [
    {
     "name": "stdout",
     "output_type": "stream",
     "text": [
      "55\n"
     ]
    }
   ],
   "source": [
    "def s(a):\n",
    "    if a<=1:\n",
    "        return 1\n",
    "    return a+s(a-1)\n",
    "n = int(input(\"정수: \"))\n",
    "result = s(n)\n",
    "print(result)"
   ]
  },
  {
   "cell_type": "markdown",
   "metadata": {},
   "source": [
    "### 재귀함수 이용해서 입력받은 수에 대한 계승 구하기"
   ]
  },
  {
   "cell_type": "code",
   "execution_count": null,
   "metadata": {},
   "outputs": [
    {
     "name": "stdout",
     "output_type": "stream",
     "text": [
      "3628800\n"
     ]
    }
   ],
   "source": [
    "def f(n):\n",
    "    if n > 1:\n",
    "        return n * f(n-1)\n",
    "    else:\n",
    "        return 1\n",
    "n = int(input(\"정수: \"))\n",
    "result = f(n)\n",
    "print(result)"
   ]
  },
  {
   "cell_type": "markdown",
   "metadata": {},
   "source": [
    "### 재귀함수 이용해서 피보나치수열 구하기"
   ]
  },
  {
   "cell_type": "code",
   "execution_count": null,
   "metadata": {},
   "outputs": [
    {
     "name": "stdout",
     "output_type": "stream",
     "text": [
      "13\n"
     ]
    }
   ],
   "source": [
    "def fibo(a):\n",
    "    if a<=2:\n",
    "        return 1\n",
    "    return fibo(a-1)+fibo(a-2)\n",
    "n = int(input(\"정수: \"))\n",
    "result = fibo(n)\n",
    "print(result)"
   ]
  }
 ],
 "metadata": {
  "language_info": {
   "name": "python"
  }
 },
 "nbformat": 4,
 "nbformat_minor": 2
}
