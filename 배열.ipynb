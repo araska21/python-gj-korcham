{
 "cells": [
  {
   "cell_type": "markdown",
   "metadata": {},
   "source": [
    "### 1부터 10까지의 수 저장 및 출력"
   ]
  },
  {
   "cell_type": "code",
   "execution_count": 1,
   "metadata": {},
   "outputs": [
    {
     "name": "stdout",
     "output_type": "stream",
     "text": [
      "[1, 2, 3, 4, 5, 6, 7, 8, 9, 10]\n"
     ]
    }
   ],
   "source": [
    "a = []\n",
    "for i in range(1, 11):     \n",
    " a.append(i)\n",
    "print(a)"
   ]
  },
  {
   "cell_type": "markdown",
   "metadata": {},
   "source": [
    "### 10부터 1까지의 수 저장 및 출력"
   ]
  },
  {
   "cell_type": "code",
   "execution_count": 2,
   "metadata": {},
   "outputs": [
    {
     "name": "stdout",
     "output_type": "stream",
     "text": [
      "[10, 9, 8, 7, 6, 5, 4, 3, 2, 1]\n"
     ]
    }
   ],
   "source": [
    "a = []\n",
    "for i in range(10, 0, -1):\n",
    "    a.append(i)\n",
    "print(a)"
   ]
  },
  {
   "cell_type": "markdown",
   "metadata": {},
   "source": [
    "### 10,20,.....,100 저장하고 거꾸로 출력하기"
   ]
  },
  {
   "cell_type": "code",
   "execution_count": 3,
   "metadata": {},
   "outputs": [
    {
     "name": "stdout",
     "output_type": "stream",
     "text": [
      "100 90 80 70 60 50 40 30 20 10 "
     ]
    }
   ],
   "source": [
    "a = []\n",
    "for i in range(10, 101, 10):\n",
    "  a.append(i)\n",
    "for i in range(9, -1, -1):     \n",
    " print(a[i], end=\" \")"
   ]
  },
  {
   "cell_type": "markdown",
   "metadata": {},
   "source": [
    "### 배열 요소 거꾸로 뒤집기"
   ]
  },
  {
   "cell_type": "code",
   "execution_count": 6,
   "metadata": {},
   "outputs": [
    {
     "name": "stdout",
     "output_type": "stream",
     "text": [
      "[10, 9, 8, 7, 6, 5, 4, 3, 2, 1]\n"
     ]
    }
   ],
   "source": [
    "a = [1, 2, 3, 4, 5, 6, 7, 8, 9, 10]\n",
    "for i in range(0, 5):  \n",
    "  temp = a[i]   \n",
    "  a[i] = a[9-i] \n",
    "  a[9-i] = temp\n",
    "print(a)"
   ]
  },
  {
   "cell_type": "markdown",
   "metadata": {},
   "source": [
    "### 배열 a 요소 배열 b에 거꾸로 저장하기"
   ]
  },
  {
   "cell_type": "code",
   "execution_count": 1,
   "metadata": {},
   "outputs": [
    {
     "name": "stdout",
     "output_type": "stream",
     "text": [
      "[10, 9, 8, 7, 6, 5, 4, 3, 2, 1]\n"
     ]
    }
   ],
   "source": [
    "a = [1, 2, 3, 4, 5, 6, 7, 8, 9, 10]\n",
    "b = []\n",
    "for i in range(0, 10):     \n",
    "     b.append(a[9-i])\n",
    "print(b)"
   ]
  },
  {
   "cell_type": "markdown",
   "metadata": {},
   "source": [
    "### 배열 요소 왼쪽으로 한 칸씩 원형으로 이동하기"
   ]
  },
  {
   "cell_type": "code",
   "execution_count": 5,
   "metadata": {},
   "outputs": [
    {
     "name": "stdout",
     "output_type": "stream",
     "text": [
      "[2, 3, 4, 5, 6, 7, 8, 9, 10, 1]\n"
     ]
    }
   ],
   "source": [
    "a = [1, 2, 3, 4, 5, 6, 7, 8, 9, 10]\n",
    "temp = a[0]\n",
    "for i in range(0, 9):\n",
    "  a[i] = a[i+1]\n",
    "a[9] = temp\n",
    "print(a)"
   ]
  },
  {
   "cell_type": "markdown",
   "metadata": {},
   "source": [
    "### 배열 요소 오른쪽으로 한 칸씩 원형으로 이동하기"
   ]
  },
  {
   "cell_type": "code",
   "execution_count": 70,
   "metadata": {},
   "outputs": [
    {
     "name": "stdout",
     "output_type": "stream",
     "text": [
      "[10, 1, 2, 3, 4, 5, 6, 7, 8, 9]\n"
     ]
    }
   ],
   "source": [
    "a = [1, 2, 3, 4, 5, 6, 7, 8, 9, 10]\n",
    "temp = a[9]\n",
    "for i in range(9, 0, -1):\n",
    " a[i] = a[i-1]\n",
    "a[0] = temp\n",
    "print(a)"
   ]
  },
  {
   "cell_type": "markdown",
   "metadata": {},
   "source": [
    "### 배열 최댓값 구하기"
   ]
  },
  {
   "cell_type": "code",
   "execution_count": 65,
   "metadata": {},
   "outputs": [
    {
     "name": "stdout",
     "output_type": "stream",
     "text": [
      "[85, 79, 45, 78, 65, 1, 46, 51, 82, 58]\n",
      "최댓값: 85\n"
     ]
    }
   ],
   "source": [
    "import random\n",
    "a = []\n",
    "for i in range(10):\n",
    " a.append(random.randint(1, 100))\n",
    "print(a)\n",
    "m = a[0]\n",
    "for i in range(1, 10):\n",
    " if m<a[i]:        \n",
    "    m = a[i]\n",
    "print(\"최댓값:\", m)"
   ]
  },
  {
   "cell_type": "markdown",
   "metadata": {},
   "source": [
    "### 배열 최솟값 구하기"
   ]
  },
  {
   "cell_type": "code",
   "execution_count": 71,
   "metadata": {},
   "outputs": [
    {
     "name": "stdout",
     "output_type": "stream",
     "text": [
      "[70, 75, 45, 9, 49, 66, 80, 53, 9, 64]\n",
      "최솟값: 9\n"
     ]
    }
   ],
   "source": [
    "import random\n",
    "a = []\n",
    "for i in range(10):\n",
    "    a.append(random.randint(1, 100))\n",
    "print(a)\n",
    "m = a[0]\n",
    "for i in range(1, 10):\n",
    "    if m>a[i]:\n",
    "        m = a[i]\n",
    "print(\"최솟값:\", m)"
   ]
  },
  {
   "cell_type": "markdown",
   "metadata": {},
   "source": [
    "### 에라토스테네스의 체"
   ]
  },
  {
   "cell_type": "code",
   "execution_count": 72,
   "metadata": {},
   "outputs": [
    {
     "name": "stdout",
     "output_type": "stream",
     "text": [
      "2 3 5 7 11 13 17 19 23 29 31 37 41 43 47 53 59 61 67 71 73 79 83 89 97 "
     ]
    }
   ],
   "source": [
    "a = []\n",
    "for i in range(1, 102):\n",
    " a.append(0)\n",
    "for i in range(2, 101):\n",
    "    if a[i]==0:\n",
    "     for j in range(i*2, 101, i):\n",
    "        a[j] = 1\n",
    "for i in range(2, 101):         \n",
    "  if a[i]==0:\n",
    "    print(i, end=\" \")"
   ]
  },
  {
   "cell_type": "markdown",
   "metadata": {},
   "source": [
    "### 10진수를 2진수로 변환하여 배열에 저장하기"
   ]
  },
  {
   "cell_type": "code",
   "execution_count": 74,
   "metadata": {},
   "outputs": [
    {
     "name": "stdout",
     "output_type": "stream",
     "text": [
      "1 1 0 1 0 0 "
     ]
    }
   ],
   "source": [
    "b = []\n",
    "n = int(input(\"10진수: \"))\n",
    "while n!=0:\n",
    " b.append(n%2)\n",
    " n = n//2\n",
    "for i in range(len(b)-1, -1, -1):\n",
    " print(b[i], end=\" \")"
   ]
  },
  {
   "cell_type": "markdown",
   "metadata": {},
   "source": [
    "### 10진수를 8진수로 변환하여 배열에 저장하기"
   ]
  },
  {
   "cell_type": "code",
   "execution_count": 82,
   "metadata": {},
   "outputs": [
    {
     "name": "stdout",
     "output_type": "stream",
     "text": [
      "6 4 "
     ]
    }
   ],
   "source": [
    "b =[]\n",
    "n = int(input(\"10진수: \"))\n",
    "while n!=0:\n",
    "    b.append(n%8)\n",
    "    n = n//8\n",
    "for i in range(len(b)-1, -1, -1):\n",
    "    print(b[i], end=\" \")"
   ]
  },
  {
   "cell_type": "markdown",
   "metadata": {},
   "source": [
    "### 배열에 저장된 2진수를 10진수로 변환하기"
   ]
  },
  {
   "cell_type": "code",
   "execution_count": 77,
   "metadata": {},
   "outputs": [
    {
     "name": "stdout",
     "output_type": "stream",
     "text": [
      "25\n"
     ]
    }
   ],
   "source": [
    "b = [1,1,0,0,1]\n",
    "n = 0\n",
    "for i in range(0, 5):\n",
    " n = n + b[i]*(2**(4-i))\n",
    "print(n)"
   ]
  },
  {
   "cell_type": "markdown",
   "metadata": {},
   "source": [
    "### 배열에 저장된 8진수를 10진수로 변환하기"
   ]
  },
  {
   "cell_type": "code",
   "execution_count": 86,
   "metadata": {},
   "outputs": [
    {
     "name": "stdout",
     "output_type": "stream",
     "text": [
      "52\n"
     ]
    }
   ],
   "source": [
    "b = [6, 4]\n",
    "n = 0\n",
    "for i in range(0, 2):\n",
    " n = n + b[i]*(8**(1-i))\n",
    "print(n)"
   ]
  },
  {
   "cell_type": "markdown",
   "metadata": {},
   "source": [
    "### 선형 탐색"
   ]
  },
  {
   "cell_type": "code",
   "execution_count": 87,
   "metadata": {},
   "outputs": [
    {
     "name": "stdout",
     "output_type": "stream",
     "text": [
      "1 에서 탐색 성공\n"
     ]
    }
   ],
   "source": [
    "a = [26, 27, 39, 63, 57, 75, 11, 76, 80, 18]\n",
    "key = int(input(\"키: \"))\n",
    "cnt = 0\n",
    "while cnt<10:\n",
    "     if key == a[cnt]:   \n",
    "       print(cnt, \"에서 탐색 성공\")\n",
    "       break\n",
    "     cnt = cnt+1\n",
    "if cnt == 10:\n",
    "   print(\"탐색 실패\")"
   ]
  },
  {
   "cell_type": "code",
   "execution_count": 88,
   "metadata": {},
   "outputs": [
    {
     "name": "stdout",
     "output_type": "stream",
     "text": [
      "5 에서 탐색 성공\n"
     ]
    }
   ],
   "source": [
    "a = [26, 27, 39, 63, 57, 75, 11, 76, 80, 18]\n",
    "key = int(input(\"키 : \"))\n",
    "if key in a:\n",
    " print(a.index(key), \"에서 탐색 성공\")\n",
    "else:\n",
    " print(\"탐색 실패\")"
   ]
  },
  {
   "cell_type": "markdown",
   "metadata": {},
   "source": [
    "### 이진 탐색"
   ]
  },
  {
   "cell_type": "code",
   "execution_count": 89,
   "metadata": {},
   "outputs": [
    {
     "name": "stdout",
     "output_type": "stream",
     "text": [
      "7 에서 탐색 성공\n"
     ]
    }
   ],
   "source": [
    "a = [11, 18, 26, 27, 39, 57, 63, 75, 76, 80]\n",
    "key = int(input(\"키 : \"))\n",
    "low = 0\n",
    "high = 9\n",
    "while low<=high:   \n",
    "    mid = (low+high)//2\n",
    "    if  key == a[mid]:\n",
    "     print(mid, \"에서 탐색 성공\")\n",
    "     break\n",
    "    elif key < a[mid]:\n",
    "     high = mid-1\n",
    "    else:\n",
    "     low = mid+1\n",
    "if low > high:\n",
    " print(\"탐색 실패\")"
   ]
  },
  {
   "cell_type": "markdown",
   "metadata": {},
   "source": [
    "### 내림차순으로 정렬된 데이터 집합에 대한 이진 탐색"
   ]
  },
  {
   "cell_type": "code",
   "execution_count": 98,
   "metadata": {},
   "outputs": [
    {
     "name": "stdout",
     "output_type": "stream",
     "text": [
      "6 에서 탐색 성공\n"
     ]
    }
   ],
   "source": [
    "a = [90, 85, 74, 68, 54, 47, 35, 21, 18, 8]\n",
    "key = int(input(\"키 : \"))\n",
    "low = 0\n",
    "high = 9\n",
    "while low<=high:   \n",
    "    mid = (low+high)//2\n",
    "    if  key == a[mid]:\n",
    "     print(mid, \"에서 탐색 성공\")\n",
    "     break\n",
    "    elif key > a[mid]:\n",
    "     high = mid-1\n",
    "    else:\n",
    "     low = mid+1\n",
    "if low > high:\n",
    " print(\"탐색 실패\")"
   ]
  },
  {
   "cell_type": "markdown",
   "metadata": {},
   "source": [
    "### 선택 정렬"
   ]
  },
  {
   "cell_type": "code",
   "execution_count": 99,
   "metadata": {},
   "outputs": [
    {
     "name": "stdout",
     "output_type": "stream",
     "text": [
      "[10, 20, 30, 40, 50, 60]\n"
     ]
    }
   ],
   "source": [
    "a = [20, 50, 30, 10, 60, 40]\n",
    "for i in range(0, 5):    \n",
    "   m = i     \n",
    "   for j in range(i+1, 6):\n",
    "    if a[j]<a[m]:\n",
    "      m = j\n",
    "   temp = a[i]     \n",
    "   a[i] = a[m]\n",
    "   a[m] = temp\n",
    "print(a)"
   ]
  },
  {
   "cell_type": "code",
   "execution_count": 100,
   "metadata": {},
   "outputs": [
    {
     "name": "stdout",
     "output_type": "stream",
     "text": [
      "[10, 20, 30, 40, 50, 60]\n"
     ]
    }
   ],
   "source": [
    "a = [20, 50, 30, 10, 60, 40]\n",
    "a.sort()\n",
    "print(a)"
   ]
  },
  {
   "cell_type": "markdown",
   "metadata": {},
   "source": [
    "### 버블 정렬"
   ]
  },
  {
   "cell_type": "code",
   "execution_count": 101,
   "metadata": {},
   "outputs": [
    {
     "name": "stdout",
     "output_type": "stream",
     "text": [
      "[10, 20, 30, 40, 50, 60]\n"
     ]
    }
   ],
   "source": [
    "a = [20, 50, 30, 10, 60, 40]\n",
    "for i in range(0, 5):\n",
    " for j in range(0, 5-i):\n",
    "   if a[j]>a[j+1]:\n",
    "    temp = a[j]\n",
    "    a[j] = a[j+1]\n",
    "    a[j+1] = temp            \n",
    "print(a)"
   ]
  },
  {
   "cell_type": "markdown",
   "metadata": {},
   "source": [
    "### 병합 정렬"
   ]
  },
  {
   "cell_type": "code",
   "execution_count": null,
   "metadata": {},
   "outputs": [
    {
     "name": "stdout",
     "output_type": "stream",
     "text": [
      "[1, 3, 3, 4, 5, 7, 8, 10]\n"
     ]
    }
   ],
   "source": [
    "a = [1, 3, 5, 7]\n",
    "b = [3, 4, 8, 10]\n",
    "c = []\n",
    "i = 0\n",
    "j = 0\n",
    "while i<4 and j<4:\n",
    "    if a[i]<b[j]:    \n",
    "      c.append(a[i])\n",
    "      i = i+1\n",
    "    else:\n",
    "      c.append(b[j])\n",
    "      j = j+1  \n",
    "if i==4:\n",
    "    while j<4:\n",
    "     c.append(b[j])\n",
    "     j = j+1\n",
    "else:\n",
    "    while i<4:\n",
    "     c.append(a[i])\n",
    "     i = i+1\n",
    "print(c)"
   ]
  }
 ],
 "metadata": {
  "kernelspec": {
   "display_name": "Python 3",
   "language": "python",
   "name": "python3"
  },
  "language_info": {
   "codemirror_mode": {
    "name": "ipython",
    "version": 3
   },
   "file_extension": ".py",
   "mimetype": "text/x-python",
   "name": "python",
   "nbconvert_exporter": "python",
   "pygments_lexer": "ipython3",
   "version": "3.13.2"
  }
 },
 "nbformat": 4,
 "nbformat_minor": 2
}
